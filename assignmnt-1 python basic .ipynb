{
 "cells": [
  {
   "cell_type": "code",
   "execution_count": 4,
   "id": "e65e51f1",
   "metadata": {
    "scrolled": true
   },
   "outputs": [
    {
     "ename": "SyntaxError",
     "evalue": "invalid syntax (3773656999.py, line 7)",
     "output_type": "error",
     "traceback": [
      "\u001b[1;36m  Input \u001b[1;32mIn [4]\u001b[1;36m\u001b[0m\n\u001b[1;33m    -87.8 is an integer value\u001b[0m\n\u001b[1;37m                ^\u001b[0m\n\u001b[1;31mSyntaxError\u001b[0m\u001b[1;31m:\u001b[0m invalid syntax\n"
     ]
    }
   ],
   "source": [
    "## 1\n",
    "\n",
    "## * - is a mathematical operator\n",
    "\n",
    "\"hello\" is string \n",
    "\n",
    "-87.8 is an integer value \n",
    "\n",
    "- is mathematical operator \n",
    "\n",
    "+ is mathematical operator \n",
    "\n",
    "6 is an integer \n",
    "\n"
   ]
  },
  {
   "cell_type": "code",
   "execution_count": 5,
   "id": "30f4c247",
   "metadata": {},
   "outputs": [],
   "source": [
    "##2 \n",
    "\n",
    "## string is a type of data which consist alphabets while variable is name of data type to store data in code . "
   ]
  },
  {
   "cell_type": "code",
   "execution_count": 6,
   "id": "2dadffaa",
   "metadata": {},
   "outputs": [
    {
     "ename": "SyntaxError",
     "evalue": "invalid syntax (4243323421.py, line 3)",
     "output_type": "error",
     "traceback": [
      "\u001b[1;36m  Input \u001b[1;32mIn [6]\u001b[1;36m\u001b[0m\n\u001b[1;33m    three type of data is\u001b[0m\n\u001b[1;37m          ^\u001b[0m\n\u001b[1;31mSyntaxError\u001b[0m\u001b[1;31m:\u001b[0m invalid syntax\n"
     ]
    }
   ],
   "source": [
    "## 3 \n",
    "\n",
    "three type of data is \n",
    "1. string \n",
    "2. integer\n",
    "3. float \n",
    "4. bullien type "
   ]
  },
  {
   "cell_type": "code",
   "execution_count": 7,
   "id": "fa7f8a06",
   "metadata": {},
   "outputs": [
    {
     "ename": "SyntaxError",
     "evalue": "invalid syntax (4267409614.py, line 2)",
     "output_type": "error",
     "traceback": [
      "\u001b[1;36m  Input \u001b[1;32mIn [7]\u001b[1;36m\u001b[0m\n\u001b[1;33m    expression is made of combination of various mathematical operators which consist variables.\u001b[0m\n\u001b[1;37m                       ^\u001b[0m\n\u001b[1;31mSyntaxError\u001b[0m\u001b[1;31m:\u001b[0m invalid syntax\n"
     ]
    }
   ],
   "source": [
    "## 4 \n",
    "expression is made of combination of various mathematical operators which consist variables.\n",
    "expressions performs varios operations like addition , substraction , derive , multiplications etc.. \n"
   ]
  },
  {
   "cell_type": "code",
   "execution_count": 8,
   "id": "4b375fd4",
   "metadata": {},
   "outputs": [],
   "source": [
    "##5 \n",
    "\n",
    "spam = 10 \n"
   ]
  },
  {
   "cell_type": "code",
   "execution_count": 9,
   "id": "5d1695a5",
   "metadata": {},
   "outputs": [
    {
     "ename": "SyntaxError",
     "evalue": "invalid syntax (2407705435.py, line 1)",
     "output_type": "error",
     "traceback": [
      "\u001b[1;36m  Input \u001b[1;32mIn [9]\u001b[1;36m\u001b[0m\n\u001b[1;33m    in above statement,  indicates that variable spam has integer value of 10 ,\u001b[0m\n\u001b[1;37m    ^\u001b[0m\n\u001b[1;31mSyntaxError\u001b[0m\u001b[1;31m:\u001b[0m invalid syntax\n"
     ]
    }
   ],
   "source": [
    "in above statement,  indicates that variable spam has integer value of 10 ,  "
   ]
  },
  {
   "cell_type": "code",
   "execution_count": 13,
   "id": "d7d1dac6",
   "metadata": {},
   "outputs": [],
   "source": [
    "##6 \n",
    "bacon = 22 \n"
   ]
  },
  {
   "cell_type": "code",
   "execution_count": 14,
   "id": "d79ce212",
   "metadata": {},
   "outputs": [
    {
     "data": {
      "text/plain": [
       "23"
      ]
     },
     "execution_count": 14,
     "metadata": {},
     "output_type": "execute_result"
    }
   ],
   "source": [
    "bacon + 1 "
   ]
  },
  {
   "cell_type": "code",
   "execution_count": 15,
   "id": "ccae8399",
   "metadata": {},
   "outputs": [
    {
     "ename": "SyntaxError",
     "evalue": "invalid syntax (1627117558.py, line 1)",
     "output_type": "error",
     "traceback": [
      "\u001b[1;36m  Input \u001b[1;32mIn [15]\u001b[1;36m\u001b[0m\n\u001b[1;33m    bacon contains 11\u001b[0m\n\u001b[1;37m          ^\u001b[0m\n\u001b[1;31mSyntaxError\u001b[0m\u001b[1;31m:\u001b[0m invalid syntax\n"
     ]
    }
   ],
   "source": [
    "bacon contains 23 "
   ]
  },
  {
   "cell_type": "code",
   "execution_count": 16,
   "id": "05ab5ddf",
   "metadata": {},
   "outputs": [
    {
     "data": {
      "text/plain": [
       "'spamspamspam'"
      ]
     },
     "execution_count": 16,
     "metadata": {},
     "output_type": "execute_result"
    }
   ],
   "source": [
    "## 7 \n",
    "\n",
    "\"spam\" + \"spamspam\""
   ]
  },
  {
   "cell_type": "code",
   "execution_count": 17,
   "id": "c69aa69f",
   "metadata": {},
   "outputs": [
    {
     "data": {
      "text/plain": [
       "'spamspamspam'"
      ]
     },
     "execution_count": 17,
     "metadata": {},
     "output_type": "execute_result"
    }
   ],
   "source": [
    "\"spam\"*3"
   ]
  },
  {
   "cell_type": "code",
   "execution_count": 18,
   "id": "e6052157",
   "metadata": {},
   "outputs": [
    {
     "ename": "SyntaxError",
     "evalue": "invalid syntax (3232323142.py, line 3)",
     "output_type": "error",
     "traceback": [
      "\u001b[1;36m  Input \u001b[1;32mIn [18]\u001b[1;36m\u001b[0m\n\u001b[1;33m    variable consist of alphabets and numbers  not only  numbers  which is float inetger etc....\u001b[0m\n\u001b[1;37m             ^\u001b[0m\n\u001b[1;31mSyntaxError\u001b[0m\u001b[1;31m:\u001b[0m invalid syntax\n"
     ]
    }
   ],
   "source": [
    "## 8 \n",
    "\n",
    "variable consist of alphabets and numbers  not only  numbers  which is float inetger etc.... "
   ]
  },
  {
   "cell_type": "code",
   "execution_count": 19,
   "id": "1bad319b",
   "metadata": {},
   "outputs": [],
   "source": [
    "## 9 "
   ]
  },
  {
   "cell_type": "code",
   "execution_count": 20,
   "id": "9b9e4462",
   "metadata": {},
   "outputs": [
    {
     "ename": "SyntaxError",
     "evalue": "invalid syntax (2660655165.py, line 1)",
     "output_type": "error",
     "traceback": [
      "\u001b[1;36m  Input \u001b[1;32mIn [20]\u001b[1;36m\u001b[0m\n\u001b[1;33m    for getting integer value\u001b[0m\n\u001b[1;37m                ^\u001b[0m\n\u001b[1;31mSyntaxError\u001b[0m\u001b[1;31m:\u001b[0m invalid syntax\n"
     ]
    }
   ],
   "source": [
    "for getting integer value \n",
    "int()  \n",
    "\n",
    "for getting float value \n",
    "float()\n",
    "\n",
    "for getting string value \n",
    "str()"
   ]
  },
  {
   "cell_type": "code",
   "execution_count": null,
   "id": "b87788e8",
   "metadata": {},
   "outputs": [],
   "source": [
    "##10 \n",
    "\n",
    "\"i have eaten +99+ burritos\"\n",
    "\n",
    "\n",
    "\n"
   ]
  }
 ],
 "metadata": {
  "kernelspec": {
   "display_name": "Python 3 (ipykernel)",
   "language": "python",
   "name": "python3"
  },
  "language_info": {
   "codemirror_mode": {
    "name": "ipython",
    "version": 3
   },
   "file_extension": ".py",
   "mimetype": "text/x-python",
   "name": "python",
   "nbconvert_exporter": "python",
   "pygments_lexer": "ipython3",
   "version": "3.9.12"
  }
 },
 "nbformat": 4,
 "nbformat_minor": 5
}
