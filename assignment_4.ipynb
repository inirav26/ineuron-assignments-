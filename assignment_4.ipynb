{
 "cells": [
  {
   "cell_type": "code",
   "execution_count": 12,
   "id": "e728ff77",
   "metadata": {},
   "outputs": [
    {
     "ename": "SyntaxError",
     "evalue": "invalid syntax (4129373171.py, line 3)",
     "output_type": "error",
     "traceback": [
      "\u001b[1;36m  Input \u001b[1;32mIn [12]\u001b[1;36m\u001b[0m\n\u001b[1;33m    empty list in which we can add values\u001b[0m\n\u001b[1;37m          ^\u001b[0m\n\u001b[1;31mSyntaxError\u001b[0m\u001b[1;31m:\u001b[0m invalid syntax\n"
     ]
    }
   ],
   "source": [
    "###1 \n",
    "[] \n",
    "empty list in which we can add values "
   ]
  },
  {
   "cell_type": "code",
   "execution_count": 13,
   "id": "e702dd73",
   "metadata": {},
   "outputs": [],
   "source": [
    "## 2 \n",
    "\n",
    "spam = [2,4,6,8]\n",
    "\n",
    "spam[2] = \"hello\"\n",
    "\n"
   ]
  },
  {
   "cell_type": "code",
   "execution_count": 14,
   "id": "b6ac5fe0",
   "metadata": {},
   "outputs": [
    {
     "data": {
      "text/plain": [
       "[2, 4, 'hello', 8]"
      ]
     },
     "execution_count": 14,
     "metadata": {},
     "output_type": "execute_result"
    }
   ],
   "source": [
    "spam "
   ]
  },
  {
   "cell_type": "code",
   "execution_count": 15,
   "id": "14f3a9a4",
   "metadata": {},
   "outputs": [],
   "source": [
    "## 3 \n",
    "\n",
    "spam = ['a','b','c' ,'d']"
   ]
  },
  {
   "cell_type": "code",
   "execution_count": 16,
   "id": "f6b12ba8",
   "metadata": {},
   "outputs": [
    {
     "data": {
      "text/plain": [
       "'d'"
      ]
     },
     "execution_count": 16,
     "metadata": {},
     "output_type": "execute_result"
    }
   ],
   "source": [
    "spam[int(int('3'*2)/11)]"
   ]
  },
  {
   "cell_type": "code",
   "execution_count": 17,
   "id": "c71776bc",
   "metadata": {},
   "outputs": [
    {
     "data": {
      "text/plain": [
       "'d'"
      ]
     },
     "execution_count": 17,
     "metadata": {},
     "output_type": "execute_result"
    }
   ],
   "source": [
    "## 4 \n",
    "\n",
    "spam [-1]"
   ]
  },
  {
   "cell_type": "code",
   "execution_count": 11,
   "id": "3f0d5949",
   "metadata": {},
   "outputs": [
    {
     "data": {
      "text/plain": [
       "['a', 'b']"
      ]
     },
     "execution_count": 11,
     "metadata": {},
     "output_type": "execute_result"
    }
   ],
   "source": [
    "##5\n",
    "\n",
    "spam [:2]"
   ]
  },
  {
   "cell_type": "code",
   "execution_count": 18,
   "id": "ce00746b",
   "metadata": {},
   "outputs": [],
   "source": [
    "## 6 \n",
    "\n",
    "bacon = [3.14, 'cat' ,  11, 'cat' ,  True]\n",
    "\n"
   ]
  },
  {
   "cell_type": "code",
   "execution_count": 19,
   "id": "f0b0e486",
   "metadata": {},
   "outputs": [
    {
     "data": {
      "text/plain": [
       "1"
      ]
     },
     "execution_count": 19,
     "metadata": {},
     "output_type": "execute_result"
    }
   ],
   "source": [
    "bacon.index('cat')"
   ]
  },
  {
   "cell_type": "code",
   "execution_count": 22,
   "id": "60204511",
   "metadata": {},
   "outputs": [],
   "source": [
    "## 7\n",
    "\n",
    "bacon.append (99)"
   ]
  },
  {
   "cell_type": "code",
   "execution_count": 23,
   "id": "802bb116",
   "metadata": {},
   "outputs": [
    {
     "data": {
      "text/plain": [
       "[3.14, 'cat', 11, 'cat', True, 99, 99]"
      ]
     },
     "execution_count": 23,
     "metadata": {},
     "output_type": "execute_result"
    }
   ],
   "source": [
    "bacon"
   ]
  },
  {
   "cell_type": "code",
   "execution_count": 24,
   "id": "e593c03a",
   "metadata": {},
   "outputs": [],
   "source": [
    "## 8 \n",
    "\n",
    "bacon.remove(\"cat\")"
   ]
  },
  {
   "cell_type": "code",
   "execution_count": 25,
   "id": "82edc550",
   "metadata": {},
   "outputs": [
    {
     "data": {
      "text/plain": [
       "[3.14, 11, 'cat', True, 99, 99]"
      ]
     },
     "execution_count": 25,
     "metadata": {},
     "output_type": "execute_result"
    }
   ],
   "source": [
    "bacon"
   ]
  },
  {
   "cell_type": "code",
   "execution_count": 26,
   "id": "693996ac",
   "metadata": {},
   "outputs": [],
   "source": [
    "## 9 \n",
    "# for list concetination + operator is uesed \n",
    "# for list replication * operator is used \n"
   ]
  },
  {
   "cell_type": "code",
   "execution_count": 27,
   "id": "e9540fe9",
   "metadata": {},
   "outputs": [],
   "source": [
    "## 10 \n",
    "# append () add values in last of the list \n",
    "# insert() add values anywhere in the list "
   ]
  },
  {
   "cell_type": "code",
   "execution_count": 28,
   "id": "b6664ae0",
   "metadata": {},
   "outputs": [],
   "source": [
    "## 11 \n",
    "\n",
    "# for remove item from the list use remove() and del statements "
   ]
  },
  {
   "cell_type": "code",
   "execution_count": 30,
   "id": "c52ee752",
   "metadata": {},
   "outputs": [],
   "source": [
    "## 12\n",
    "\n",
    "## indexing  and slicing operation performed in list and string  "
   ]
  },
  {
   "cell_type": "code",
   "execution_count": 31,
   "id": "7c761a81",
   "metadata": {},
   "outputs": [],
   "source": [
    "## 13 \n",
    "## tuples are written in () bracket while list are written in [] square bracket \n",
    "## values in tuples can not be changed while values in list are changed or added. "
   ]
  },
  {
   "cell_type": "code",
   "execution_count": 34,
   "id": "36a43126",
   "metadata": {},
   "outputs": [
    {
     "data": {
      "text/plain": [
       "tuple"
      ]
     },
     "execution_count": 34,
     "metadata": {},
     "output_type": "execute_result"
    }
   ],
   "source": [
    "##14 \n",
    "\n",
    "t=(42 ,53 , 664)\n",
    "type(t)\n"
   ]
  },
  {
   "cell_type": "code",
   "execution_count": 35,
   "id": "8fdce1de",
   "metadata": {},
   "outputs": [
    {
     "data": {
      "text/plain": [
       "(42, 53, 664)"
      ]
     },
     "execution_count": 35,
     "metadata": {},
     "output_type": "execute_result"
    }
   ],
   "source": [
    "## 15 \n",
    "tuple(t)"
   ]
  },
  {
   "cell_type": "code",
   "execution_count": 36,
   "id": "dff2c2f2",
   "metadata": {},
   "outputs": [
    {
     "data": {
      "text/plain": [
       "[42, 53, 664]"
      ]
     },
     "execution_count": 36,
     "metadata": {},
     "output_type": "execute_result"
    }
   ],
   "source": [
    "list(t)"
   ]
  },
  {
   "cell_type": "code",
   "execution_count": 37,
   "id": "eee0cf30",
   "metadata": {},
   "outputs": [],
   "source": [
    "## 16\n",
    "\n",
    "## values of contains "
   ]
  },
  {
   "cell_type": "code",
   "execution_count": 43,
   "id": "fd4b19ff",
   "metadata": {},
   "outputs": [
    {
     "data": {
      "text/plain": [
       "[1, 2, 3, 4]"
      ]
     },
     "execution_count": 43,
     "metadata": {},
     "output_type": "execute_result"
    }
   ],
   "source": [
    "## 17 \n",
    "\n",
    "copy = [1,2,3,4]\n",
    "copy.copy()"
   ]
  },
  {
   "cell_type": "code",
   "execution_count": 44,
   "id": "82594dae",
   "metadata": {},
   "outputs": [
    {
     "ename": "AttributeError",
     "evalue": "'list' object has no attribute 'deepcopy'",
     "output_type": "error",
     "traceback": [
      "\u001b[1;31m---------------------------------------------------------------------------\u001b[0m",
      "\u001b[1;31mAttributeError\u001b[0m                            Traceback (most recent call last)",
      "Input \u001b[1;32mIn [44]\u001b[0m, in \u001b[0;36m<cell line: 1>\u001b[1;34m()\u001b[0m\n\u001b[1;32m----> 1\u001b[0m \u001b[43mcopy\u001b[49m\u001b[38;5;241;43m.\u001b[39;49m\u001b[43mdeepcopy\u001b[49m()\n",
      "\u001b[1;31mAttributeError\u001b[0m: 'list' object has no attribute 'deepcopy'"
     ]
    }
   ],
   "source": [
    "copy.deepcopy()"
   ]
  },
  {
   "cell_type": "code",
   "execution_count": null,
   "id": "a4f57600",
   "metadata": {},
   "outputs": [],
   "source": []
  }
 ],
 "metadata": {
  "kernelspec": {
   "display_name": "Python 3 (ipykernel)",
   "language": "python",
   "name": "python3"
  },
  "language_info": {
   "codemirror_mode": {
    "name": "ipython",
    "version": 3
   },
   "file_extension": ".py",
   "mimetype": "text/x-python",
   "name": "python",
   "nbconvert_exporter": "python",
   "pygments_lexer": "ipython3",
   "version": "3.9.12"
  }
 },
 "nbformat": 4,
 "nbformat_minor": 5
}
