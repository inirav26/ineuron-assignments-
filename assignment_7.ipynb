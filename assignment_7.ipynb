{
 "cells": [
  {
   "cell_type": "code",
   "execution_count": 1,
   "id": "2f9e3e25",
   "metadata": {},
   "outputs": [
    {
     "ename": "SyntaxError",
     "evalue": "invalid syntax (1142985892.py, line 4)",
     "output_type": "error",
     "traceback": [
      "\u001b[1;36m  Input \u001b[1;32mIn [1]\u001b[1;36m\u001b[0m\n\u001b[1;33m    this above function is responsible for generation of regular expression\u001b[0m\n\u001b[1;37m         ^\u001b[0m\n\u001b[1;31mSyntaxError\u001b[0m\u001b[1;31m:\u001b[0m invalid syntax\n"
     ]
    }
   ],
   "source": [
    "## 1\n",
    "\n",
    "import re\n",
    "this above function is responsible for generation of regular expression "
   ]
  },
  {
   "cell_type": "code",
   "execution_count": 2,
   "id": "fb06573f",
   "metadata": {},
   "outputs": [],
   "source": [
    "## 2 \n",
    "\n",
    "## Regular expressions use the backslash character Hence, Raw strings are used ( r\"\\n\") so that backslashes do not have to be escaped."
   ]
  },
  {
   "cell_type": "code",
   "execution_count": 21,
   "id": "4ac57317",
   "metadata": {},
   "outputs": [
    {
     "name": "stdout",
     "output_type": "stream",
     "text": [
      "<re.Match object; span=(11, 16), match='nirav'>\n"
     ]
    }
   ],
   "source": [
    "## 3\n",
    "\n",
    "import re \n",
    "p = \"my name is nirav\"\n",
    "x = re.search(\"nirav\", p)\n",
    "print (x)\n",
    "\n",
    "## used to returns match object "
   ]
  },
  {
   "cell_type": "code",
   "execution_count": 24,
   "id": "15b2a8da",
   "metadata": {},
   "outputs": [],
   "source": [
    "## 4 \n",
    "\n",
    "## The group() method returns strings of the matched text."
   ]
  },
  {
   "cell_type": "code",
   "execution_count": 25,
   "id": "fc369798",
   "metadata": {},
   "outputs": [],
   "source": [
    "## 5 "
   ]
  },
  {
   "cell_type": "code",
   "execution_count": 29,
   "id": "90c306ce",
   "metadata": {},
   "outputs": [
    {
     "name": "stdout",
     "output_type": "stream",
     "text": [
      "852\n",
      "456-9632\n",
      "('852', '456-9632')\n"
     ]
    }
   ],
   "source": [
    "## group 0 covers entire pattern or string \n",
    "\n",
    "import re\n",
    "number = re.compile(r'(\\d\\d\\d)-(\\d\\d\\d-\\d\\d\\d\\d)')\n",
    "mynumber = number.search('My number is 852-456-9632.')\n",
    "print(mynumber.group(1)) \n",
    "## this returns first group in number variable \n",
    "\n",
    "print(mynumber.group(2))\n",
    "## returns second group in number variable\n",
    "\n",
    "print(mynumber.groups())\n",
    "## returns group tuple format in number variable "
   ]
  },
  {
   "cell_type": "code",
   "execution_count": null,
   "id": "77228541",
   "metadata": {},
   "outputs": [],
   "source": [
    "\n",
    "\n",
    "\n"
   ]
  },
  {
   "cell_type": "code",
   "execution_count": 31,
   "id": "2a093094",
   "metadata": {},
   "outputs": [],
   "source": [
    "## 6\n",
    "## Periods and parentheses can be escaped with a backslash .\n",
    "\n"
   ]
  },
  {
   "cell_type": "code",
   "execution_count": 33,
   "id": "32bd5f34",
   "metadata": {},
   "outputs": [
    {
     "name": "stdout",
     "output_type": "stream",
     "text": [
      "[('852', '456-9632')]\n"
     ]
    }
   ],
   "source": [
    "##7 \n",
    "\n",
    "## if regex has no group than list of string  returns \n",
    "import re\n",
    "number = re.compile(r'(\\d\\d\\d)-(\\d\\d\\d-\\d\\d\\d\\d)')\n",
    "mynumber = number.findall('My number is 852-456-9632.')\n",
    "print (mynumber)\n"
   ]
  },
  {
   "cell_type": "code",
   "execution_count": 37,
   "id": "0971fe7c",
   "metadata": {},
   "outputs": [
    {
     "name": "stdout",
     "output_type": "stream",
     "text": [
      "['852-456-9632']\n"
     ]
    }
   ],
   "source": [
    "import re\n",
    "number = re.compile(r'\\d{3}-\\d{3}-\\d{4}')\n",
    "mynumber = number.findall('My number is 852-456-9632.')\n",
    "print (mynumber) ## if regex list of tuples of string  returns \n"
   ]
  },
  {
   "cell_type": "code",
   "execution_count": 39,
   "id": "b647786f",
   "metadata": {},
   "outputs": [],
   "source": [
    "## 8 \n",
    "\n",
    "## The | character means  either, or between two groups."
   ]
  },
  {
   "cell_type": "code",
   "execution_count": 40,
   "id": "59f693c3",
   "metadata": {},
   "outputs": [],
   "source": [
    "## 9 \n",
    "\n",
    "## the ? satnd for zero or one occurences \n",
    "\n"
   ]
  },
  {
   "cell_type": "code",
   "execution_count": 41,
   "id": "c97aefe8",
   "metadata": {},
   "outputs": [],
   "source": [
    "##10 \n",
    "\n",
    "## * Represents Zero ore more occurances\n",
    "## + represents one or more occurances "
   ]
  },
  {
   "cell_type": "code",
   "execution_count": 42,
   "id": "3399526a",
   "metadata": {},
   "outputs": [],
   "source": [
    "##11 \n",
    "\n",
    "## The {4} matches exactly three instances of the preceding group. The {4,5} matches between three and five instances."
   ]
  },
  {
   "cell_type": "code",
   "execution_count": 45,
   "id": "2f92e47f",
   "metadata": {},
   "outputs": [],
   "source": [
    "##12"
   ]
  },
  {
   "cell_type": "code",
   "execution_count": 46,
   "id": "e562d5a4",
   "metadata": {},
   "outputs": [],
   "source": [
    " \n",
    "## The \\d, \\w, and \\s shorthand character classes match a single digit, word, and  space character, respectively"
   ]
  },
  {
   "cell_type": "code",
   "execution_count": 47,
   "id": "d12600e4",
   "metadata": {},
   "outputs": [
    {
     "ename": "SyntaxError",
     "evalue": "unexpected character after line continuation character (2359815669.py, line 2)",
     "output_type": "error",
     "traceback": [
      "\u001b[1;36m  Input \u001b[1;32mIn [47]\u001b[1;36m\u001b[0m\n\u001b[1;33m    \\W when string does not contains word character\u001b[0m\n\u001b[1;37m     ^\u001b[0m\n\u001b[1;31mSyntaxError\u001b[0m\u001b[1;31m:\u001b[0m unexpected character after line continuation character\n"
     ]
    }
   ],
   "source": [
    "##13 \n",
    "\\W when string does not contains word character \n",
    "\\D when string does not contains digit \n",
    "\\S when string does not contains space character \n",
    "\n",
    "\n",
    "\n",
    "\n",
    "\n"
   ]
  },
  {
   "cell_type": "code",
   "execution_count": 48,
   "id": "606623f7",
   "metadata": {},
   "outputs": [],
   "source": [
    "##14 \n",
    "\n",
    "## .*  which returns the longest string that meets the condition.\n",
    "## *?  which returns the shortest string\n",
    "\n"
   ]
  },
  {
   "cell_type": "code",
   "execution_count": 49,
   "id": "e9146842",
   "metadata": {},
   "outputs": [],
   "source": [
    "## 17\n",
    "\n",
    "## The . character normally matches any character except the newline character. \n",
    "## If re.DOTALL is passed as the second argument to re.compile(), then the dot will also match newline characters."
   ]
  },
  {
   "cell_type": "code",
   "execution_count": 50,
   "id": "58bad7aa",
   "metadata": {},
   "outputs": [
    {
     "ename": "SyntaxError",
     "evalue": "invalid syntax (1420328001.py, line 3)",
     "output_type": "error",
     "traceback": [
      "\u001b[1;36m  Input \u001b[1;32mIn [50]\u001b[1;36m\u001b[0m\n\u001b[1;33m    [0-9a-z]\u001b[0m\n\u001b[1;37m        ^\u001b[0m\n\u001b[1;31mSyntaxError\u001b[0m\u001b[1;31m:\u001b[0m invalid syntax\n"
     ]
    }
   ],
   "source": [
    "## 15 \n",
    "\n",
    "[0-9a-z] \n",
    "[a-z0-9]\n",
    "\n",
    "\n"
   ]
  },
  {
   "cell_type": "code",
   "execution_count": 51,
   "id": "2dfbf971",
   "metadata": {},
   "outputs": [],
   "source": [
    "## 16 \n",
    "\n",
    " ## We can pass re.IGNORECASE"
   ]
  },
  {
   "cell_type": "code",
   "execution_count": 53,
   "id": "5f70b0f2",
   "metadata": {},
   "outputs": [
    {
     "name": "stdout",
     "output_type": "stream",
     "text": [
      "X drummers, X pipers, five rings, X hen\n"
     ]
    }
   ],
   "source": [
    "##18 \n",
    "\n",
    "import re\n",
    "numReg = re.compile(r'\\d+')\n",
    "x = numReg.sub('X', '11 drummers, 10 pipers, five rings, 4 hen')\n",
    "print(x)"
   ]
  },
  {
   "cell_type": "code",
   "execution_count": 55,
   "id": "559203fd",
   "metadata": {},
   "outputs": [],
   "source": [
    "##19 \n",
    "\n",
    "## The VERBOSE flag of the regex package allows the user to write regular expressions that can look nicer and are more readable.\n",
    "\n",
    "import re   \n",
    "def validating_email(emails):  \n",
    "##  without Using VERBOSE  \n",
    "    reg_emails = re.compile(r'^([z-a1-3_\\.-0]+)@([0-1a-s\\.-]+)\\.([c-z\\.]{5, 8})$',  \n",
    "              re.IGNORECASE)  \n",
    "# Using VERBOSE  \n",
    "    reg_email = re.compile(r\"\"\"  \n",
    "            ^([z-a1-3_\\.-0]+)                # local Part like username  \n",
    "            @                                # single @ character  \n",
    "            ([0-1a-s\\.-]+)                   # Domain name  \n",
    "            \\.                               # single Dot .  \n",
    "            ([c-z\\.]{5, 8})$                 # in the end, the Domain    \n",
    "             \"\"\",re.VERBOSE | re.IGNORECASE)   "
   ]
  },
  {
   "cell_type": "code",
   "execution_count": 56,
   "id": "14626b5c",
   "metadata": {},
   "outputs": [
    {
     "name": "stdout",
     "output_type": "stream",
     "text": [
      "Output: 42 -> <re.Match object; span=(0, 2), match='42'>\n",
      "Output: 1,234 -> <re.Match object; span=(0, 5), match='1,234'>\n",
      "Output: 6,368,745 -> <re.Match object; span=(0, 9), match='6,368,745'>\n",
      "Output: 12,34,567 -> None\n",
      "Output: 1234 -> None\n"
     ]
    }
   ],
   "source": [
    "## 20 \n",
    "\n",
    "import re\n",
    "pattern = r'^\\d{1,3}(,\\d{3})*$'\n",
    "pagex = re.compile(pattern)\n",
    "for ele in ['42','1,234', '6,368,745','12,34,567','1234']:\n",
    "    print('Output:',ele, '->', pagex.search(ele))"
   ]
  },
  {
   "cell_type": "code",
   "execution_count": 57,
   "id": "64c9bbb8",
   "metadata": {},
   "outputs": [
    {
     "name": "stdout",
     "output_type": "stream",
     "text": [
      "Output:  Haruto Watanabe -> <re.Match object; span=(0, 15), match='Haruto Watanabe'>\n",
      "Output:  Alice Watanabe -> <re.Match object; span=(0, 14), match='Alice Watanabe'>\n",
      "Output:  RoboCop Watanabe -> <re.Match object; span=(4, 16), match='Cop Watanabe'>\n",
      "Output:  haruto Watanabe -> None\n",
      "Output:  Mr. Watanabe -> None\n",
      "Output:  Watanabe -> None\n",
      "Output:  Haruto watanabe -> None\n"
     ]
    }
   ],
   "source": [
    "##21 \n",
    "\n",
    "import re\n",
    "pattern = r'[A-Z]{1}[a-z]*\\sWatanabe'\n",
    "namex = re.compile(pattern)\n",
    "for name in ['Haruto Watanabe','Alice Watanabe','RoboCop Watanabe','haruto Watanabe','Mr. Watanabe','Watanabe','Haruto watanabe']:\n",
    "    print('Output: ',name,'->',namex.search(name))"
   ]
  },
  {
   "cell_type": "code",
   "execution_count": 58,
   "id": "00f29f50",
   "metadata": {},
   "outputs": [
    {
     "name": "stdout",
     "output_type": "stream",
     "text": [
      "Output:  Alice eats apples. -> <re.Match object; span=(0, 18), match='Alice eats apples.'>\n",
      "Output:  Bob pets cats. -> <re.Match object; span=(0, 14), match='Bob pets cats.'>\n",
      "Output:  Carol throws baseballs. -> <re.Match object; span=(0, 23), match='Carol throws baseballs.'>\n",
      "Output:  Alice throws Apples. -> <re.Match object; span=(0, 20), match='Alice throws Apples.'>\n",
      "Output:  BOB EATS CATS. -> <re.Match object; span=(0, 14), match='BOB EATS CATS.'>\n",
      "Output:  RoboCop eats apples. -> None\n",
      "Output:  ALICE THROWS FOOTBALLS. -> None\n",
      "Output:  Carol eats 7 cats. -> None\n"
     ]
    }
   ],
   "source": [
    "## 22 \n",
    "\n",
    "import re\n",
    "pattern = r'(Alice|Bob|Carol)\\s(eats|pets|throws)\\s(apples|cats|baseballs)\\.'\n",
    "casex = re.compile(pattern,re.IGNORECASE)\n",
    "for ele in ['Alice eats apples.','Bob pets cats.','Carol throws baseballs.','Alice throws Apples.','BOB EATS CATS.','RoboCop eats apples.'\n",
    ",'ALICE THROWS FOOTBALLS.','Carol eats 7 cats.']:\n",
    "    print('Output: ',ele,'->',casex.search(ele))"
   ]
  },
  {
   "cell_type": "code",
   "execution_count": null,
   "id": "0273e1bd",
   "metadata": {},
   "outputs": [],
   "source": []
  }
 ],
 "metadata": {
  "kernelspec": {
   "display_name": "Python 3 (ipykernel)",
   "language": "python",
   "name": "python3"
  },
  "language_info": {
   "codemirror_mode": {
    "name": "ipython",
    "version": 3
   },
   "file_extension": ".py",
   "mimetype": "text/x-python",
   "name": "python",
   "nbconvert_exporter": "python",
   "pygments_lexer": "ipython3",
   "version": "3.9.12"
  }
 },
 "nbformat": 4,
 "nbformat_minor": 5
}
