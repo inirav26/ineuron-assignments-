{
 "cells": [
  {
   "cell_type": "code",
   "execution_count": 1,
   "id": "5b116e76",
   "metadata": {},
   "outputs": [
    {
     "data": {
      "text/plain": [
       "{}"
      ]
     },
     "execution_count": 1,
     "metadata": {},
     "output_type": "execute_result"
    }
   ],
   "source": [
    "# 1\n",
    "{}"
   ]
  },
  {
   "cell_type": "code",
   "execution_count": 2,
   "id": "d5ca8cb8",
   "metadata": {},
   "outputs": [],
   "source": [
    "## 2 \n",
    "\n",
    "d={\"foo\": \"42\"}"
   ]
  },
  {
   "cell_type": "code",
   "execution_count": 3,
   "id": "7e8bc195",
   "metadata": {},
   "outputs": [],
   "source": [
    "## 3 \n",
    "\n",
    "## items in dictionary are unordered manner while items in list ar in ordered manner "
   ]
  },
  {
   "cell_type": "code",
   "execution_count": 4,
   "id": "6426fdb4",
   "metadata": {},
   "outputs": [],
   "source": [
    "## 4 "
   ]
  },
  {
   "cell_type": "code",
   "execution_count": 7,
   "id": "68d22a60",
   "metadata": {},
   "outputs": [
    {
     "ename": "KeyError",
     "evalue": "'foo'",
     "output_type": "error",
     "traceback": [
      "\u001b[1;31m---------------------------------------------------------------------------\u001b[0m",
      "\u001b[1;31mKeyError\u001b[0m                                  Traceback (most recent call last)",
      "Input \u001b[1;32mIn [7]\u001b[0m, in \u001b[0;36m<cell line: 3>\u001b[1;34m()\u001b[0m\n\u001b[0;32m      1\u001b[0m spam \u001b[38;5;241m=\u001b[39m {\u001b[38;5;124m\"\u001b[39m\u001b[38;5;124mbar\u001b[39m\u001b[38;5;124m\"\u001b[39m : \u001b[38;5;241m100\u001b[39m}\n\u001b[1;32m----> 3\u001b[0m \u001b[43mspam\u001b[49m\u001b[43m[\u001b[49m\u001b[38;5;124;43m\"\u001b[39;49m\u001b[38;5;124;43mfoo\u001b[39;49m\u001b[38;5;124;43m\"\u001b[39;49m\u001b[43m]\u001b[49m\n",
      "\u001b[1;31mKeyError\u001b[0m: 'foo'"
     ]
    }
   ],
   "source": [
    "spam = {\"bar\" : 100}\n",
    "\n",
    "spam[\"foo\"] ## shows key error "
   ]
  },
  {
   "cell_type": "code",
   "execution_count": 8,
   "id": "a8eaf912",
   "metadata": {},
   "outputs": [],
   "source": [
    "## 5 \n",
    "\n",
    "spam = {\"cat\" : \"meow\"}"
   ]
  },
  {
   "cell_type": "code",
   "execution_count": 12,
   "id": "949c9aa6",
   "metadata": {},
   "outputs": [
    {
     "data": {
      "text/plain": [
       "dict_keys(['cat'])"
      ]
     },
     "execution_count": 12,
     "metadata": {},
     "output_type": "execute_result"
    }
   ],
   "source": [
    "spam.keys()"
   ]
  },
  {
   "cell_type": "code",
   "execution_count": 13,
   "id": "1f7a1611",
   "metadata": {},
   "outputs": [],
   "source": [
    "# spam.keys() checks whether there is  key of  'cat' for one of the keys in spam."
   ]
  },
  {
   "cell_type": "code",
   "execution_count": 14,
   "id": "ef860f4f",
   "metadata": {},
   "outputs": [
    {
     "data": {
      "text/plain": [
       "dict_values(['meow'])"
      ]
     },
     "execution_count": 14,
     "metadata": {},
     "output_type": "execute_result"
    }
   ],
   "source": [
    "## 6 \n",
    "spam.values()"
   ]
  },
  {
   "cell_type": "code",
   "execution_count": 15,
   "id": "6d9c738f",
   "metadata": {},
   "outputs": [],
   "source": [
    "# spam.values() checks whether there is value payer of 'cat' for one of the keys in spam."
   ]
  },
  {
   "cell_type": "code",
   "execution_count": 16,
   "id": "fe341d14",
   "metadata": {},
   "outputs": [],
   "source": [
    "## 7 \n",
    "\n",
    "spam[\"color\"] = \"black\""
   ]
  },
  {
   "cell_type": "code",
   "execution_count": 18,
   "id": "58da2711",
   "metadata": {},
   "outputs": [
    {
     "data": {
      "text/plain": [
       "'black'"
      ]
     },
     "execution_count": 18,
     "metadata": {},
     "output_type": "execute_result"
    }
   ],
   "source": [
    "spam.setdefault('color')"
   ]
  },
  {
   "cell_type": "code",
   "execution_count": 34,
   "id": "f65da302",
   "metadata": {},
   "outputs": [],
   "source": [
    "## 8 \n",
    "\n",
    "dict = [{ \" name\" : \"xyz \" , \" number\" : \" 45611\" , \" code id \" : \" 4895\" },{\n",
    "   \" name\" : \"abs \" , \" number\" : \" 89561\" , \" code id \" : \" 4826\"}]\n"
   ]
  },
  {
   "cell_type": "code",
   "execution_count": 35,
   "id": "6140fe13",
   "metadata": {},
   "outputs": [
    {
     "name": "stdout",
     "output_type": "stream",
     "text": [
      "[{' name': 'xyz ', ' number': ' 45611', ' code id ': ' 4895'}, {' name': 'abs ', ' number': ' 89561', ' code id ': ' 4826'}]\n"
     ]
    }
   ],
   "source": [
    "print(dict)"
   ]
  },
  {
   "cell_type": "code",
   "execution_count": 36,
   "id": "e09692a5",
   "metadata": {},
   "outputs": [],
   "source": [
    "import pprint"
   ]
  },
  {
   "cell_type": "code",
   "execution_count": 38,
   "id": "30e9d583",
   "metadata": {},
   "outputs": [
    {
     "name": "stdout",
     "output_type": "stream",
     "text": [
      "[{' code id ': ' 4895', ' name': 'xyz ', ' number': ' 45611'},\n",
      " {' code id ': ' 4826', ' name': 'abs ', ' number': ' 89561'}]\n"
     ]
    }
   ],
   "source": [
    "pprint.pprint(dict) ## print in alphabetic order ?? "
   ]
  },
  {
   "cell_type": "code",
   "execution_count": null,
   "id": "8c652e2c",
   "metadata": {},
   "outputs": [],
   "source": []
  }
 ],
 "metadata": {
  "kernelspec": {
   "display_name": "Python 3 (ipykernel)",
   "language": "python",
   "name": "python3"
  },
  "language_info": {
   "codemirror_mode": {
    "name": "ipython",
    "version": 3
   },
   "file_extension": ".py",
   "mimetype": "text/x-python",
   "name": "python",
   "nbconvert_exporter": "python",
   "pygments_lexer": "ipython3",
   "version": "3.9.12"
  }
 },
 "nbformat": 4,
 "nbformat_minor": 5
}
