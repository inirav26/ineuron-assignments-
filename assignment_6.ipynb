{
 "cells": [
  {
   "cell_type": "code",
   "execution_count": 1,
   "id": "3d528ca7",
   "metadata": {},
   "outputs": [
    {
     "ename": "SyntaxError",
     "evalue": "unexpected character after line continuation character (226039408.py, line 3)",
     "output_type": "error",
     "traceback": [
      "\u001b[1;36m  Input \u001b[1;32mIn [1]\u001b[1;36m\u001b[0m\n\u001b[1;33m    backlash \\ is an escape character , suppose\u001b[0m\n\u001b[1;37m              ^\u001b[0m\n\u001b[1;31mSyntaxError\u001b[0m\u001b[1;31m:\u001b[0m unexpected character after line continuation character\n"
     ]
    }
   ],
   "source": [
    "## 1 \n",
    "\n",
    "backlash \\ is an escape character , suppose \n",
    "n = \"We are \"indian\" from western region \""
   ]
  },
  {
   "cell_type": "code",
   "execution_count": 2,
   "id": "f659fa5a",
   "metadata": {},
   "outputs": [],
   "source": [
    "n = \"We are \\\"indian\\\" \""
   ]
  },
  {
   "cell_type": "code",
   "execution_count": 3,
   "id": "fcff86e9",
   "metadata": {},
   "outputs": [],
   "source": [
    "## 2  What do the escape characters n and t stand for?\n",
    "\n",
    "# \\n stands for new line \n",
    "# \\t stands for new tab \n",
    "\n"
   ]
  },
  {
   "cell_type": "code",
   "execution_count": 4,
   "id": "24d3c0c4",
   "metadata": {},
   "outputs": [],
   "source": [
    "## 3 \n",
    "\n",
    "# to include backlash charc. in string , put  \\ above starting of string "
   ]
  },
  {
   "cell_type": "code",
   "execution_count": 5,
   "id": "19b30014",
   "metadata": {},
   "outputs": [
    {
     "data": {
      "text/plain": [
       "\"Howl's Moving Castle \""
      ]
     },
     "execution_count": 5,
     "metadata": {},
     "output_type": "execute_result"
    }
   ],
   "source": [
    "##4 \n",
    "\n",
    "\"Howl's Moving Castle \"\n",
    "## single quote from howl's isnt create any problem it is fine . \n"
   ]
  },
  {
   "cell_type": "code",
   "execution_count": 8,
   "id": "f56e12f5",
   "metadata": {},
   "outputs": [
    {
     "name": "stdout",
     "output_type": "stream",
     "text": [
      "mt name is nirav \n",
      "and i am completing my assignments \n"
     ]
    }
   ],
   "source": [
    "##5 \n",
    "\n",
    "d = '''mt name is nirav \n",
    "and i am completing my assignments '''\n",
    "\n",
    "print(d)"
   ]
  },
  {
   "cell_type": "code",
   "execution_count": 10,
   "id": "6c0ed853",
   "metadata": {},
   "outputs": [
    {
     "data": {
      "text/plain": [
       "'e'"
      ]
     },
     "execution_count": 10,
     "metadata": {},
     "output_type": "execute_result"
    }
   ],
   "source": [
    "## 6 \n",
    "\n",
    "\n",
    "'Hello, world!'[1]\n"
   ]
  },
  {
   "cell_type": "code",
   "execution_count": 11,
   "id": "e2a58c12",
   "metadata": {},
   "outputs": [
    {
     "data": {
      "text/plain": [
       "'Hello'"
      ]
     },
     "execution_count": 11,
     "metadata": {},
     "output_type": "execute_result"
    }
   ],
   "source": [
    "'Hello, world!'[0:5]"
   ]
  },
  {
   "cell_type": "code",
   "execution_count": 12,
   "id": "efdaba56",
   "metadata": {},
   "outputs": [
    {
     "data": {
      "text/plain": [
       "'Hello'"
      ]
     },
     "execution_count": 12,
     "metadata": {},
     "output_type": "execute_result"
    }
   ],
   "source": [
    "'Hello, world!'[:5]"
   ]
  },
  {
   "cell_type": "code",
   "execution_count": 13,
   "id": "cc3e60db",
   "metadata": {},
   "outputs": [
    {
     "data": {
      "text/plain": [
       "'lo, world!'"
      ]
     },
     "execution_count": 13,
     "metadata": {},
     "output_type": "execute_result"
    }
   ],
   "source": [
    "'Hello, world!'[3:]"
   ]
  },
  {
   "cell_type": "code",
   "execution_count": 14,
   "id": "8254eaa1",
   "metadata": {},
   "outputs": [
    {
     "data": {
      "text/plain": [
       "'HELLO'"
      ]
     },
     "execution_count": 14,
     "metadata": {},
     "output_type": "execute_result"
    }
   ],
   "source": [
    "## 7 \n",
    "\n",
    "\"hello\".upper()"
   ]
  },
  {
   "cell_type": "code",
   "execution_count": 16,
   "id": "cc262469",
   "metadata": {},
   "outputs": [
    {
     "data": {
      "text/plain": [
       "True"
      ]
     },
     "execution_count": 16,
     "metadata": {},
     "output_type": "execute_result"
    }
   ],
   "source": [
    "\"hello\".upper().isupper()"
   ]
  },
  {
   "cell_type": "code",
   "execution_count": 17,
   "id": "947ecde3",
   "metadata": {},
   "outputs": [
    {
     "data": {
      "text/plain": [
       "'hello'"
      ]
     },
     "execution_count": 17,
     "metadata": {},
     "output_type": "execute_result"
    }
   ],
   "source": [
    "\"Hello\".upper().lower()"
   ]
  },
  {
   "cell_type": "code",
   "execution_count": 18,
   "id": "32d1eb92",
   "metadata": {},
   "outputs": [],
   "source": [
    "## 8 "
   ]
  },
  {
   "cell_type": "code",
   "execution_count": 22,
   "id": "9c3aa234",
   "metadata": {},
   "outputs": [
    {
     "data": {
      "text/plain": [
       "['Remember,remember,the', 'fifth', 'of', 'July.']"
      ]
     },
     "execution_count": 22,
     "metadata": {},
     "output_type": "execute_result"
    }
   ],
   "source": [
    "'Remember,remember,the fifth of July.'.split() ## splits where there is empty space "
   ]
  },
  {
   "cell_type": "code",
   "execution_count": 23,
   "id": "71a3c107",
   "metadata": {},
   "outputs": [
    {
     "data": {
      "text/plain": [
       "'There*can*only*one.'"
      ]
     },
     "execution_count": 23,
     "metadata": {},
     "output_type": "execute_result"
    }
   ],
   "source": [
    "'*'.join('There can only one.'.split()) ## joins * where there is empty space "
   ]
  },
  {
   "cell_type": "code",
   "execution_count": 24,
   "id": "65ad12fb",
   "metadata": {},
   "outputs": [],
   "source": [
    "## 9 "
   ]
  },
  {
   "cell_type": "code",
   "execution_count": 35,
   "id": "531df870",
   "metadata": {},
   "outputs": [
    {
     "name": "stdout",
     "output_type": "stream",
     "text": [
      "nirav$$$$$$$$$$$$$$$\n",
      "#####nirav\n",
      "%%nirav%%%\n"
     ]
    }
   ],
   "source": [
    "a = \"nirav\"\n",
    "\n",
    "x = a.ljust(20, \"$\") ## for left justifying\n",
    "\n",
    "print(x)\n",
    "\n",
    "x = a.rjust(10,\"#\") ## for right justifying \n",
    "print(x)\n",
    "\n",
    "x = a.center(10,\"%\")\n",
    "print (x)"
   ]
  },
  {
   "cell_type": "code",
   "execution_count": 51,
   "id": "843263ff",
   "metadata": {},
   "outputs": [
    {
     "name": "stdout",
     "output_type": "stream",
     "text": [
      "niravv\n",
      " nirav\n",
      " @@nirav \n"
     ]
    }
   ],
   "source": [
    "## 10 \n",
    "\n",
    "a = \"   niravv    \" ## for removin white space \n",
    "x= a.strip()\n",
    "print(x)\n",
    "\n",
    "a = \"@@@ nirav\" ## for removal of left \n",
    "x=a.lstrip(\"@\")\n",
    "print(x)\n",
    "\n",
    "a = \" @@nirav ###\" ## for removal of right  \n",
    "x=a.rstrip(\"#\")\n",
    "print(x)"
   ]
  },
  {
   "cell_type": "code",
   "execution_count": null,
   "id": "ee9fbd85",
   "metadata": {
    "scrolled": true
   },
   "outputs": [],
   "source": []
  },
  {
   "cell_type": "code",
   "execution_count": null,
   "id": "53bab4c0",
   "metadata": {},
   "outputs": [],
   "source": []
  }
 ],
 "metadata": {
  "kernelspec": {
   "display_name": "Python 3 (ipykernel)",
   "language": "python",
   "name": "python3"
  },
  "language_info": {
   "codemirror_mode": {
    "name": "ipython",
    "version": 3
   },
   "file_extension": ".py",
   "mimetype": "text/x-python",
   "name": "python",
   "nbconvert_exporter": "python",
   "pygments_lexer": "ipython3",
   "version": "3.9.12"
  }
 },
 "nbformat": 4,
 "nbformat_minor": 5
}
