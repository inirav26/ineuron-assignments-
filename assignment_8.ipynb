{
 "cells": [
  {
   "cell_type": "code",
   "execution_count": 1,
   "id": "0bdc44a6",
   "metadata": {},
   "outputs": [
    {
     "ename": "SyntaxError",
     "evalue": "invalid syntax (3724914078.py, line 3)",
     "output_type": "error",
     "traceback": [
      "\u001b[1;36m  Input \u001b[1;32mIn [1]\u001b[1;36m\u001b[0m\n\u001b[1;33m    no pyinputplus is not included in python library we need to install using !pip command.\u001b[0m\n\u001b[1;37m       ^\u001b[0m\n\u001b[1;31mSyntaxError\u001b[0m\u001b[1;31m:\u001b[0m invalid syntax\n"
     ]
    }
   ],
   "source": [
    "##1 \n",
    "\n",
    "no pyinputplus is not included in python library we need to install using !pip command. "
   ]
  },
  {
   "cell_type": "code",
   "execution_count": 3,
   "id": "fa58d3ae",
   "metadata": {},
   "outputs": [
    {
     "ename": "SyntaxError",
     "evalue": "invalid syntax (3446970660.py, line 3)",
     "output_type": "error",
     "traceback": [
      "\u001b[1;36m  Input \u001b[1;32mIn [3]\u001b[1;36m\u001b[0m\n\u001b[1;33m    pyinputplus is commanly imported as pypi due to shorter name while calling module .\u001b[0m\n\u001b[1;37m                            ^\u001b[0m\n\u001b[1;31mSyntaxError\u001b[0m\u001b[1;31m:\u001b[0m invalid syntax\n"
     ]
    }
   ],
   "source": [
    "##2 \n",
    "\n",
    "pyinputplus is commanly imported as pypi due to shorter name while calling module ."
   ]
  },
  {
   "cell_type": "code",
   "execution_count": 4,
   "id": "f04aaedb",
   "metadata": {},
   "outputs": [
    {
     "ename": "SyntaxError",
     "evalue": "invalid syntax (957350552.py, line 4)",
     "output_type": "error",
     "traceback": [
      "\u001b[1;36m  Input \u001b[1;32mIn [4]\u001b[1;36m\u001b[0m\n\u001b[1;33m    input(int()) except only integer values and returns integer values  while input(float()) enters only floating values and returns floating value\u001b[0m\n\u001b[1;37m                 ^\u001b[0m\n\u001b[1;31mSyntaxError\u001b[0m\u001b[1;31m:\u001b[0m invalid syntax\n"
     ]
    }
   ],
   "source": [
    "## 3 \n",
    "\n",
    "\n",
    "input(int()) except only integer values and returns integer values  while input(float()) enters only floating values and returns floating value \n"
   ]
  },
  {
   "cell_type": "code",
   "execution_count": 13,
   "id": "5b1c27e4",
   "metadata": {
    "scrolled": true
   },
   "outputs": [
    {
     "name": "stdout",
     "output_type": "stream",
     "text": [
      "Requirement already satisfied: Pyinputplus in c:\\users\\i n v i s i b l e\\anaconda3\\lib\\site-packages (0.2.12)\n",
      "Requirement already satisfied: stdiomask>=0.0.3 in c:\\users\\i n v i s i b l e\\anaconda3\\lib\\site-packages (from Pyinputplus) (0.0.6)\n",
      "Requirement already satisfied: pysimplevalidate>=0.2.7 in c:\\users\\i n v i s i b l e\\anaconda3\\lib\\site-packages (from Pyinputplus) (0.2.12)\n",
      "enter number:  101\n",
      "Number must be at maximum 100.\n",
      "enter number:  23\n",
      "23\n"
     ]
    }
   ],
   "source": [
    "## 4 \n",
    "\n",
    "!pip install Pyinputplus \n",
    "import pyinputplus as pyip\n",
    "number = pyip.inputInt(\"enter number:  \" , min = 0 , max = 100 )\n",
    "print(number)\n",
    "\n",
    "\n"
   ]
  },
  {
   "cell_type": "code",
   "execution_count": 14,
   "id": "dd055686",
   "metadata": {},
   "outputs": [
    {
     "ename": "SyntaxError",
     "evalue": "invalid syntax (46757549.py, line 3)",
     "output_type": "error",
     "traceback": [
      "\u001b[1;36m  Input \u001b[1;32mIn [14]\u001b[1;36m\u001b[0m\n\u001b[1;33m    we can use allowRegexes and blockRegexes keyword arguments to take list of regular expression strings to determine what the pyinputplus function will reject or accept valid input\u001b[0m\n\u001b[1;37m       ^\u001b[0m\n\u001b[1;31mSyntaxError\u001b[0m\u001b[1;31m:\u001b[0m invalid syntax\n"
     ]
    }
   ],
   "source": [
    "## 5 \n",
    "\n",
    "we can use allowRegexes and blockRegexes keyword arguments to take list of regular expression strings to determine what the pyinputplus function will reject or accept valid input "
   ]
  },
  {
   "cell_type": "code",
   "execution_count": 18,
   "id": "b3699143",
   "metadata": {},
   "outputs": [
    {
     "ename": "SyntaxError",
     "evalue": "invalid syntax (2221862456.py, line 3)",
     "output_type": "error",
     "traceback": [
      "\u001b[1;36m  Input \u001b[1;32mIn [18]\u001b[1;36m\u001b[0m\n\u001b[1;33m    The statement inputStr(limit=3) will throw two exceptions ValidationException and RetryLimitException\u001b[0m\n\u001b[1;37m        ^\u001b[0m\n\u001b[1;31mSyntaxError\u001b[0m\u001b[1;31m:\u001b[0m invalid syntax\n"
     ]
    }
   ],
   "source": [
    "##6 \n",
    "\n",
    "The statement inputStr(limit=3) will throw two exceptions Validation Exception and Retry Limit Exception"
   ]
  },
  {
   "cell_type": "code",
   "execution_count": null,
   "id": "019123fc",
   "metadata": {},
   "outputs": [],
   "source": [
    "##7\n",
    "\n",
    "Since the default parameter is set to hello. after blank input is entered three times, the function will return hello as response to the calling function"
   ]
  },
  {
   "cell_type": "code",
   "execution_count": null,
   "id": "614da0ba",
   "metadata": {},
   "outputs": [],
   "source": []
  }
 ],
 "metadata": {
  "kernelspec": {
   "display_name": "Python 3 (ipykernel)",
   "language": "python",
   "name": "python3"
  },
  "language_info": {
   "codemirror_mode": {
    "name": "ipython",
    "version": 3
   },
   "file_extension": ".py",
   "mimetype": "text/x-python",
   "name": "python",
   "nbconvert_exporter": "python",
   "pygments_lexer": "ipython3",
   "version": "3.9.12"
  }
 },
 "nbformat": 4,
 "nbformat_minor": 5
}
