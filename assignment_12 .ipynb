{
 "cells": [
  {
   "cell_type": "code",
   "execution_count": 1,
   "id": "ee6131eb",
   "metadata": {},
   "outputs": [
    {
     "ename": "SyntaxError",
     "evalue": "invalid syntax (2135110704.py, line 2)",
     "output_type": "error",
     "traceback": [
      "\u001b[1;36m  Input \u001b[1;32mIn [1]\u001b[1;36m\u001b[0m\n\u001b[1;33m    in pdfFileReader() mode file object will open in read binary mode\u001b[0m\n\u001b[1;37m    ^\u001b[0m\n\u001b[1;31mSyntaxError\u001b[0m\u001b[1;31m:\u001b[0m invalid syntax\n"
     ]
    }
   ],
   "source": [
    "## 1 \n",
    "in pdfFileReader() mode file object will open in read binary mode \n",
    "while in pdfFileWriter() mode file objectt will open in write binary mode \n"
   ]
  },
  {
   "cell_type": "code",
   "execution_count": 2,
   "id": "b0354463",
   "metadata": {},
   "outputs": [
    {
     "ename": "SyntaxError",
     "evalue": "invalid syntax (2873288780.py, line 3)",
     "output_type": "error",
     "traceback": [
      "\u001b[1;36m  Input \u001b[1;32mIn [2]\u001b[1;36m\u001b[0m\n\u001b[1;33m    getpage(4) command opens page object for page 5\u001b[0m\n\u001b[1;37m               ^\u001b[0m\n\u001b[1;31mSyntaxError\u001b[0m\u001b[1;31m:\u001b[0m invalid syntax\n"
     ]
    }
   ],
   "source": [
    "## 2 \n",
    "\n",
    "getpage(4) command opens page object for page 5 "
   ]
  },
  {
   "cell_type": "code",
   "execution_count": 3,
   "id": "9aaa3333",
   "metadata": {},
   "outputs": [
    {
     "ename": "SyntaxError",
     "evalue": "invalid syntax (813510925.py, line 3)",
     "output_type": "error",
     "traceback": [
      "\u001b[1;36m  Input \u001b[1;32mIn [3]\u001b[1;36m\u001b[0m\n\u001b[1;33m    numPages variable stores the number of pages in pdf documents\u001b[0m\n\u001b[1;37m             ^\u001b[0m\n\u001b[1;31mSyntaxError\u001b[0m\u001b[1;31m:\u001b[0m invalid syntax\n"
     ]
    }
   ],
   "source": [
    "## 3 \n",
    "\n",
    "numPages variable stores the number of pages in pdf documents "
   ]
  },
  {
   "cell_type": "code",
   "execution_count": 5,
   "id": "30c8edfc",
   "metadata": {},
   "outputs": [
    {
     "ename": "SyntaxError",
     "evalue": "EOF while scanning triple-quoted string literal (232373203.py, line 6)",
     "output_type": "error",
     "traceback": [
      "\u001b[1;36m  Input \u001b[1;32mIn [5]\u001b[1;36m\u001b[0m\n\u001b[1;33m    If pdf is encrypted we will use the decrypt() method provided by PdfFileReader class and then we will try to read the contents''''''\u001b[0m\n\u001b[1;37m                                                                                                                                        \n^\u001b[0m\n\u001b[1;31mSyntaxError\u001b[0m\u001b[1;31m:\u001b[0m EOF while scanning triple-quoted string literal\n"
     ]
    }
   ],
   "source": [
    "## 4 \n",
    "\n",
    "'''we will read pdf first using pdfFileReader than PdfFileReader\n",
    "class provides a attribute called isEncrypted to check whether \n",
    "pdf is encrypted or not. The method returns true if a pdf is encrypted\n",
    "If pdf is encrypted we will use the decrypt() method provided by PdfFileReader class and then we will try to read the contents''''''"
   ]
  },
  {
   "cell_type": "code",
   "execution_count": null,
   "id": "5843edce",
   "metadata": {},
   "outputs": [],
   "source": [
    "## 5 \n",
    "\n",
    "rotateClockwise() and rotateCounterClockwise() methods"
   ]
  },
  {
   "cell_type": "code",
   "execution_count": 31,
   "id": "ad3b592c",
   "metadata": {
    "scrolled": true
   },
   "outputs": [
    {
     "ename": "SyntaxError",
     "evalue": "EOL while scanning string literal (2186927519.py, line 3)",
     "output_type": "error",
     "traceback": [
      "\u001b[1;36m  Input \u001b[1;32mIn [31]\u001b[1;36m\u001b[0m\n\u001b[1;33m    \"A paragraph begins on a new line and contains multiple runs. Runs are contiguous groups of characters within a paragraph.\u001b[0m\n\u001b[1;37m                                                                                                                              ^\u001b[0m\n\u001b[1;31mSyntaxError\u001b[0m\u001b[1;31m:\u001b[0m EOL while scanning string literal\n"
     ]
    }
   ],
   "source": [
    "## 6 \n",
    "\n",
    "\"A paragraph begins on a new line and contains multiple runs. Runs are contiguous groups of characters within a paragraph.\n"
   ]
  },
  {
   "cell_type": "code",
   "execution_count": 23,
   "id": "2ec6df96",
   "metadata": {},
   "outputs": [
    {
     "name": "stdout",
     "output_type": "stream",
     "text": [
      "Requirement already satisfied: python-docx in c:\\users\\i n v i s i b l e\\anaconda3\\lib\\site-packages (0.8.11)\n",
      "Requirement already satisfied: lxml>=2.3.2 in c:\\users\\i n v i s i b l e\\anaconda3\\lib\\site-packages (from python-docx) (4.8.0)\n"
     ]
    }
   ],
   "source": [
    "## 7 \n",
    "\n",
    "!pip install python-docx\n",
    "import docx "
   ]
  },
  {
   "cell_type": "code",
   "execution_count": 48,
   "id": "22a448ed",
   "metadata": {},
   "outputs": [
    {
     "name": "stdout",
     "output_type": "stream",
     "text": [
      "[<docx.text.paragraph.Paragraph object at 0x0000021EEBF36E80>]\n",
      "my name is nirav and im try to leearn python, The oldest classical British and Latin writing had little or no space between words and could be written in  (alternating directions). Over time, text direction (left to right) became standardized.  and  became common. The first way to divide sentences into groups was the original paragraphos, similar to an  at the beginning of the new group. The Greek parágraphos evolved into the pilcrow (¶), which in English manuscripts in the  can be seen inserted inline between sentences.\n"
     ]
    }
   ],
   "source": [
    "from docx import Document \n",
    "doc = docx.Document(\"doc.docx\")\n",
    "print(doc.paragraphs)\n",
    "\n",
    "for i in doc.paragraphs:\n",
    "    print(i.text)\n",
    "\n"
   ]
  },
  {
   "cell_type": "code",
   "execution_count": 35,
   "id": "f0471a9a",
   "metadata": {},
   "outputs": [
    {
     "ename": "SyntaxError",
     "evalue": "invalid syntax (1972987955.py, line 3)",
     "output_type": "error",
     "traceback": [
      "\u001b[1;36m  Input \u001b[1;32mIn [35]\u001b[1;36m\u001b[0m\n\u001b[1;33m    Run object has bold, underline, italic, strike, and outline variables.\u001b[0m\n\u001b[1;37m        ^\u001b[0m\n\u001b[1;31mSyntaxError\u001b[0m\u001b[1;31m:\u001b[0m invalid syntax\n"
     ]
    }
   ],
   "source": [
    "## 8 \n",
    "\n",
    "Run object has bold, underline, italic, strike, and outline variables."
   ]
  },
  {
   "cell_type": "code",
   "execution_count": 36,
   "id": "55ae6e1e",
   "metadata": {},
   "outputs": [],
   "source": [
    "## 9 \n",
    "\n",
    "bold = True  # Style Set to Bold\n",
    "bold = False # Style Not Set to Bold\n",
    "bold = None ## style is not applicable \n",
    "\n"
   ]
  },
  {
   "cell_type": "code",
   "execution_count": 50,
   "id": "05a609b4",
   "metadata": {},
   "outputs": [],
   "source": [
    "## 10 \n",
    "\n",
    "from docx import Document \n",
    "document = Document()\n",
    "document.add_paragraph(\"my name is nirav and im try to leearn python\")\n",
    "document.save(\"doc1.docx\")"
   ]
  },
  {
   "cell_type": "code",
   "execution_count": 53,
   "id": "319ba070",
   "metadata": {},
   "outputs": [],
   "source": [
    "## 11\n",
    "\n",
    "from docx import Document \n",
    "document = Document()\n",
    "document.add_paragraph(\"hello there! \")\n",
    "document.save(\"doc.docx\")"
   ]
  },
  {
   "cell_type": "code",
   "execution_count": null,
   "id": "7cdfdf3a",
   "metadata": {},
   "outputs": [],
   "source": [
    "##12 \n",
    "\n",
    "'inside the add_heading method. There are a total of 5 levels statring for 0 to 4. where level 0 makes a headline with the horizontal line below the text, whereas the heading level 1 is the main heading. Similarly, the other headings are sub-heading with their's font-sizes in decreasing order'"
   ]
  }
 ],
 "metadata": {
  "kernelspec": {
   "display_name": "Python 3 (ipykernel)",
   "language": "python",
   "name": "python3"
  },
  "language_info": {
   "codemirror_mode": {
    "name": "ipython",
    "version": 3
   },
   "file_extension": ".py",
   "mimetype": "text/x-python",
   "name": "python",
   "nbconvert_exporter": "python",
   "pygments_lexer": "ipython3",
   "version": "3.9.12"
  }
 },
 "nbformat": 4,
 "nbformat_minor": 5
}
